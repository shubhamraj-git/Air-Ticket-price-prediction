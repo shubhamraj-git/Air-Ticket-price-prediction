{
 "cells": [
  {
   "cell_type": "code",
   "execution_count": 1,
   "metadata": {},
   "outputs": [],
   "source": [
    "#To exclude warnings\n",
    "import warnings\n",
    "warnings.filterwarnings('ignore')"
   ]
  },
  {
   "cell_type": "code",
   "execution_count": 2,
   "metadata": {},
   "outputs": [],
   "source": [
    "#importing libraries \n",
    "import pandas as pd                                           #for woeking on dataframe\n",
    "import numpy as np                                            #for general use\n",
    "import random                                                 #for randomly choosing \n",
    "from scipy import integrate                                   #for integrating \n",
    "import seaborn as sns                                         #for making plot,chart \n",
    "import matplotlib.pyplot as plt                               #for making plot,chart\n",
    "from sklearn.model_selection import train_test_split          #for splitting data \n",
    "from sklearn.metrics import mean_squared_error                #for calculating RMSE\n",
    "from sklearn.feature_selection import SelectKBest, f_regression  #for selecting best features\n",
    "from sklearn.metrics import r2_score                          #Calculating R2 score\n",
    "from datetime import timedelta\n",
    "import datetime  \n",
    "from datetime import date"
   ]
  },
  {
   "cell_type": "code",
   "execution_count": 3,
   "metadata": {},
   "outputs": [],
   "source": [
    "from sklearn.ensemble import RandomForestRegressor            #Random Forest Regressor\n",
    "import xgboost as xgb                                         #XGB"
   ]
  },
  {
   "cell_type": "code",
   "execution_count": 4,
   "metadata": {},
   "outputs": [],
   "source": [
    "df = pd.read_csv('train.csv')"
   ]
  },
  {
   "cell_type": "code",
   "execution_count": 5,
   "metadata": {},
   "outputs": [],
   "source": [
    "df_test = pd.read_csv('test.csv')"
   ]
  },
  {
   "cell_type": "code",
   "execution_count": 6,
   "metadata": {},
   "outputs": [
    {
     "name": "stdout",
     "output_type": "stream",
     "text": [
      "train :  8533\n",
      "test :  2134\n"
     ]
    }
   ],
   "source": [
    "print('train : ',len(df))\n",
    "print('test : ',len(df_test))"
   ]
  },
  {
   "cell_type": "code",
   "execution_count": 7,
   "metadata": {},
   "outputs": [],
   "source": [
    "train, test_i = train_test_split(df, test_size=0.30, random_state=42, shuffle=False)\n",
    "val, test = train_test_split(test_i, test_size=0.5, random_state=42, shuffle=False)"
   ]
  },
  {
   "cell_type": "code",
   "execution_count": 8,
   "metadata": {},
   "outputs": [
    {
     "name": "stdout",
     "output_type": "stream",
     "text": [
      "train :  5973\n",
      "val :  1280\n",
      "test :  1280\n"
     ]
    }
   ],
   "source": [
    "print('train : ',len(train))\n",
    "print('val : ',len(val))\n",
    "print('test : ',len(test))"
   ]
  },
  {
   "cell_type": "code",
   "execution_count": 9,
   "metadata": {},
   "outputs": [
    {
     "data": {
      "text/html": [
       "<div>\n",
       "<style scoped>\n",
       "    .dataframe tbody tr th:only-of-type {\n",
       "        vertical-align: middle;\n",
       "    }\n",
       "\n",
       "    .dataframe tbody tr th {\n",
       "        vertical-align: top;\n",
       "    }\n",
       "\n",
       "    .dataframe thead th {\n",
       "        text-align: right;\n",
       "    }\n",
       "</style>\n",
       "<table border=\"1\" class=\"dataframe\">\n",
       "  <thead>\n",
       "    <tr style=\"text-align: right;\">\n",
       "      <th></th>\n",
       "      <th>Airline</th>\n",
       "      <th>Date_of_Journey</th>\n",
       "      <th>Source</th>\n",
       "      <th>Destination</th>\n",
       "      <th>Dep_Time</th>\n",
       "      <th>Arrival_Time</th>\n",
       "      <th>Duration</th>\n",
       "      <th>Total_Stops</th>\n",
       "      <th>Additional_Info</th>\n",
       "      <th>Price</th>\n",
       "    </tr>\n",
       "  </thead>\n",
       "  <tbody>\n",
       "    <tr>\n",
       "      <th>0</th>\n",
       "      <td>IndiGo</td>\n",
       "      <td>09-04-2019</td>\n",
       "      <td>Banglore</td>\n",
       "      <td>Delhi</td>\n",
       "      <td>04:00</td>\n",
       "      <td>06:50</td>\n",
       "      <td>2h 50m</td>\n",
       "      <td>non-stop</td>\n",
       "      <td>No info</td>\n",
       "      <td>3943.0</td>\n",
       "    </tr>\n",
       "    <tr>\n",
       "      <th>1</th>\n",
       "      <td>IndiGo</td>\n",
       "      <td>03-06-2019</td>\n",
       "      <td>Banglore</td>\n",
       "      <td>Delhi</td>\n",
       "      <td>08:30</td>\n",
       "      <td>11:20</td>\n",
       "      <td>2h 50m</td>\n",
       "      <td>non-stop</td>\n",
       "      <td>No info</td>\n",
       "      <td>4823.0</td>\n",
       "    </tr>\n",
       "    <tr>\n",
       "      <th>2</th>\n",
       "      <td>Jet Airways</td>\n",
       "      <td>09-06-2019</td>\n",
       "      <td>Mumbai</td>\n",
       "      <td>Hyderabad</td>\n",
       "      <td>19:35</td>\n",
       "      <td>21:05</td>\n",
       "      <td>1h 30m</td>\n",
       "      <td>non-stop</td>\n",
       "      <td>In-flight meal not included</td>\n",
       "      <td>3210.0</td>\n",
       "    </tr>\n",
       "    <tr>\n",
       "      <th>3</th>\n",
       "      <td>Multiple carriers</td>\n",
       "      <td>27-05-2019</td>\n",
       "      <td>Delhi</td>\n",
       "      <td>Cochin</td>\n",
       "      <td>12:50</td>\n",
       "      <td>21:00</td>\n",
       "      <td>8h 10m</td>\n",
       "      <td>1 stop</td>\n",
       "      <td>No info</td>\n",
       "      <td>7005.0</td>\n",
       "    </tr>\n",
       "    <tr>\n",
       "      <th>4</th>\n",
       "      <td>Air India</td>\n",
       "      <td>06-06-2019</td>\n",
       "      <td>Delhi</td>\n",
       "      <td>Cochin</td>\n",
       "      <td>06:50</td>\n",
       "      <td>07-06-2021 07:40</td>\n",
       "      <td>24h 50m</td>\n",
       "      <td>2 stops</td>\n",
       "      <td>No info</td>\n",
       "      <td>13381.0</td>\n",
       "    </tr>\n",
       "  </tbody>\n",
       "</table>\n",
       "</div>"
      ],
      "text/plain": [
       "             Airline Date_of_Journey    Source Destination Dep_Time  \\\n",
       "0             IndiGo      09-04-2019  Banglore       Delhi    04:00   \n",
       "1             IndiGo      03-06-2019  Banglore       Delhi    08:30   \n",
       "2        Jet Airways      09-06-2019    Mumbai   Hyderabad    19:35   \n",
       "3  Multiple carriers      27-05-2019     Delhi      Cochin    12:50   \n",
       "4          Air India      06-06-2019     Delhi      Cochin    06:50   \n",
       "\n",
       "       Arrival_Time Duration Total_Stops              Additional_Info    Price  \n",
       "0             06:50   2h 50m    non-stop                      No info   3943.0  \n",
       "1             11:20   2h 50m    non-stop                      No info   4823.0  \n",
       "2             21:05   1h 30m    non-stop  In-flight meal not included   3210.0  \n",
       "3             21:00   8h 10m      1 stop                      No info   7005.0  \n",
       "4  07-06-2021 07:40  24h 50m     2 stops                      No info  13381.0  "
      ]
     },
     "execution_count": 9,
     "metadata": {},
     "output_type": "execute_result"
    }
   ],
   "source": [
    "train.head()"
   ]
  },
  {
   "cell_type": "code",
   "execution_count": 10,
   "metadata": {},
   "outputs": [
    {
     "data": {
      "text/html": [
       "<div>\n",
       "<style scoped>\n",
       "    .dataframe tbody tr th:only-of-type {\n",
       "        vertical-align: middle;\n",
       "    }\n",
       "\n",
       "    .dataframe tbody tr th {\n",
       "        vertical-align: top;\n",
       "    }\n",
       "\n",
       "    .dataframe thead th {\n",
       "        text-align: right;\n",
       "    }\n",
       "</style>\n",
       "<table border=\"1\" class=\"dataframe\">\n",
       "  <thead>\n",
       "    <tr style=\"text-align: right;\">\n",
       "      <th></th>\n",
       "      <th>Price</th>\n",
       "    </tr>\n",
       "  </thead>\n",
       "  <tbody>\n",
       "    <tr>\n",
       "      <th>count</th>\n",
       "      <td>5973.000000</td>\n",
       "    </tr>\n",
       "    <tr>\n",
       "      <th>mean</th>\n",
       "      <td>9034.823037</td>\n",
       "    </tr>\n",
       "    <tr>\n",
       "      <th>std</th>\n",
       "      <td>4384.609129</td>\n",
       "    </tr>\n",
       "    <tr>\n",
       "      <th>min</th>\n",
       "      <td>1759.000000</td>\n",
       "    </tr>\n",
       "    <tr>\n",
       "      <th>25%</th>\n",
       "      <td>5228.000000</td>\n",
       "    </tr>\n",
       "    <tr>\n",
       "      <th>50%</th>\n",
       "      <td>8371.000000</td>\n",
       "    </tr>\n",
       "    <tr>\n",
       "      <th>75%</th>\n",
       "      <td>12373.000000</td>\n",
       "    </tr>\n",
       "    <tr>\n",
       "      <th>max</th>\n",
       "      <td>31945.000000</td>\n",
       "    </tr>\n",
       "  </tbody>\n",
       "</table>\n",
       "</div>"
      ],
      "text/plain": [
       "              Price\n",
       "count   5973.000000\n",
       "mean    9034.823037\n",
       "std     4384.609129\n",
       "min     1759.000000\n",
       "25%     5228.000000\n",
       "50%     8371.000000\n",
       "75%    12373.000000\n",
       "max    31945.000000"
      ]
     },
     "execution_count": 10,
     "metadata": {},
     "output_type": "execute_result"
    }
   ],
   "source": [
    "train.describe()"
   ]
  },
  {
   "cell_type": "code",
   "execution_count": 11,
   "metadata": {},
   "outputs": [
    {
     "data": {
      "text/plain": [
       "Airline            0\n",
       "Date_of_Journey    0\n",
       "Source             0\n",
       "Destination        0\n",
       "Dep_Time           0\n",
       "Arrival_Time       0\n",
       "Duration           0\n",
       "Total_Stops        0\n",
       "Additional_Info    0\n",
       "Price              0\n",
       "dtype: int64"
      ]
     },
     "execution_count": 11,
     "metadata": {},
     "output_type": "execute_result"
    }
   ],
   "source": [
    "train.isnull().sum()"
   ]
  },
  {
   "cell_type": "markdown",
   "metadata": {},
   "source": [
    "# EDA"
   ]
  },
  {
   "cell_type": "code",
   "execution_count": 12,
   "metadata": {},
   "outputs": [
    {
     "data": {
      "text/plain": [
       "<AxesSubplot:xlabel='Airline', ylabel='count'>"
      ]
     },
     "execution_count": 12,
     "metadata": {},
     "output_type": "execute_result"
    },
    {
     "data": {
      "image/png": "[encoded data removed]",
      "text/plain": [
       "<Figure size 432x288 with 1 Axes>"
      ]
     },
     "metadata": {
      "needs_background": "light"
     },
     "output_type": "display_data"
    }
   ],
   "source": [
    "sns.countplot(x='Airline',data=train)"
   ]
  },
  {
   "cell_type": "code",
   "execution_count": 13,
   "metadata": {},
   "outputs": [
    {
     "data": {
      "text/plain": [
       "Jet Airways          2136\n",
       "IndiGo               1163\n",
       "Air India             980\n",
       "Multiple carriers     673\n",
       "SpiceJet              446\n",
       "Vistara               270\n",
       "Air Asia              184\n",
       "GoAir                 114\n",
       "OTHERS                  7\n",
       "Name: Airline, dtype: int64"
      ]
     },
     "execution_count": 13,
     "metadata": {},
     "output_type": "execute_result"
    }
   ],
   "source": [
    "train['Airline'].value_counts()"
   ]
  },
  {
   "cell_type": "code",
   "execution_count": 14,
   "metadata": {},
   "outputs": [
    {
     "data": {
      "text/plain": [
       "09-05-2019    292\n",
       "12-06-2019    288\n",
       "18-05-2019    280\n",
       "21-05-2019    279\n",
       "06-06-2019    274\n",
       "09-06-2019    268\n",
       "15-05-2019    252\n",
       "21-03-2019    225\n",
       "27-05-2019    218\n",
       "06-03-2019    217\n",
       "27-06-2019    197\n",
       "01-06-2019    197\n",
       "03-06-2019    196\n",
       "24-06-2019    190\n",
       "03-03-2019    181\n",
       "15-06-2019    180\n",
       "24-03-2019    176\n",
       "27-03-2019    172\n",
       "09-03-2019    167\n",
       "01-05-2019    155\n",
       "24-05-2019    154\n",
       "01-04-2019    149\n",
       "06-05-2019    148\n",
       "12-05-2019    125\n",
       "01-03-2019    107\n",
       "18-03-2019     89\n",
       "15-03-2019     87\n",
       "09-04-2019     80\n",
       "12-03-2019     77\n",
       "03-04-2019     60\n",
       "06-04-2019     57\n",
       "21-06-2019     57\n",
       "27-04-2019     54\n",
       "15-04-2019     52\n",
       "03-05-2019     51\n",
       "24-04-2019     51\n",
       "18-06-2019     49\n",
       "21-04-2019     47\n",
       "12-04-2019     38\n",
       "18-04-2019     37\n",
       "Name: Date_of_Journey, dtype: int64"
      ]
     },
     "execution_count": 14,
     "metadata": {},
     "output_type": "execute_result"
    }
   ],
   "source": [
    "train['Date_of_Journey'].value_counts()"
   ]
  },
  {
   "cell_type": "code",
   "execution_count": 15,
   "metadata": {},
   "outputs": [
    {
     "data": {
      "text/plain": [
       "Delhi       2563\n",
       "Kolkata     1585\n",
       "Banglore    1216\n",
       "Mumbai       388\n",
       "Chennai      221\n",
       "Name: Source, dtype: int64"
      ]
     },
     "execution_count": 15,
     "metadata": {},
     "output_type": "execute_result"
    }
   ],
   "source": [
    "train['Source'].value_counts()"
   ]
  },
  {
   "cell_type": "code",
   "execution_count": 16,
   "metadata": {},
   "outputs": [
    {
     "data": {
      "text/plain": [
       "Cochin       2563\n",
       "Banglore     1585\n",
       "Delhi         720\n",
       "New Delhi     496\n",
       "Hyderabad     388\n",
       "Kolkata       221\n",
       "Name: Destination, dtype: int64"
      ]
     },
     "execution_count": 16,
     "metadata": {},
     "output_type": "execute_result"
    }
   ],
   "source": [
    "train['Destination'].value_counts()"
   ]
  },
  {
   "cell_type": "code",
   "execution_count": 17,
   "metadata": {},
   "outputs": [
    {
     "data": {
      "text/plain": [
       "18:55    133\n",
       "17:00    129\n",
       "07:05    120\n",
       "09:00    118\n",
       "10:00    117\n",
       "        ... \n",
       "11:20      1\n",
       "16:15      1\n",
       "01:35      1\n",
       "03:00      1\n",
       "21:35      1\n",
       "Name: Dep_Time, Length: 217, dtype: int64"
      ]
     },
     "execution_count": 17,
     "metadata": {},
     "output_type": "execute_result"
    }
   ],
   "source": [
    "train['Dep_Time'].value_counts()"
   ]
  },
  {
   "cell_type": "code",
   "execution_count": 18,
   "metadata": {},
   "outputs": [],
   "source": [
    "train['Dep_Time']=pd.to_datetime(train['Dep_Time'],format='%H:%M').dt.time\n",
    "val['Dep_Time']=pd.to_datetime(val['Dep_Time'],format='%H:%M').dt.time\n",
    "test['Dep_Time']=pd.to_datetime(test['Dep_Time'],format='%H:%M').dt.time"
   ]
  },
  {
   "cell_type": "code",
   "execution_count": 19,
   "metadata": {},
   "outputs": [],
   "source": [
    "def check(s):\n",
    "    mins = int(s.minute)\n",
    "    hour = int(s.hour)\n",
    "    s = mins/60 + hour\n",
    "    return s"
   ]
  },
  {
   "cell_type": "code",
   "execution_count": 20,
   "metadata": {
    "scrolled": true
   },
   "outputs": [],
   "source": [
    "train['Dep_Time']=train['Dep_Time'].apply(check)\n",
    "val['Dep_Time']=val['Dep_Time'].apply(check)\n",
    "test['Dep_Time']=test['Dep_Time'].apply(check)"
   ]
  },
  {
   "cell_type": "code",
   "execution_count": 21,
   "metadata": {},
   "outputs": [
    {
     "data": {
      "text/plain": [
       "19:00               242\n",
       "21:00               206\n",
       "19:15               187\n",
       "16:10                93\n",
       "12:35                71\n",
       "                   ... \n",
       "10-06-2021 05:25      1\n",
       "07-05-2021 19:10      1\n",
       "25-05-2021 18:00      1\n",
       "25-05-2021 19:10      1\n",
       "10-05-2021 18:30      1\n",
       "Name: Arrival_Time, Length: 1037, dtype: int64"
      ]
     },
     "execution_count": 21,
     "metadata": {},
     "output_type": "execute_result"
    }
   ],
   "source": [
    "train['Arrival_Time'].value_counts()"
   ]
  },
  {
   "cell_type": "code",
   "execution_count": 22,
   "metadata": {},
   "outputs": [],
   "source": [
    "train['Arrival_Time'] = pd.to_datetime(train['Arrival_Time']).dt.time\n",
    "val['Arrival_Time'] = pd.to_datetime(val['Arrival_Time']).dt.time\n",
    "test['Arrival_Time'] = pd.to_datetime(test['Arrival_Time']).dt.time"
   ]
  },
  {
   "cell_type": "code",
   "execution_count": 23,
   "metadata": {},
   "outputs": [],
   "source": [
    "train['Arrival_Time']=train['Arrival_Time'].apply(check)\n",
    "val['Arrival_Time']=val['Arrival_Time'].apply(check)\n",
    "test['Arrival_Time']=test['Arrival_Time'].apply(check)"
   ]
  },
  {
   "cell_type": "code",
   "execution_count": 24,
   "metadata": {},
   "outputs": [
    {
     "data": {
      "text/plain": [
       "0        2h 50m\n",
       "1        2h 50m\n",
       "2        1h 30m\n",
       "3        8h 10m\n",
       "4       24h 50m\n",
       "         ...   \n",
       "5968    10h 10m\n",
       "5969     1h 30m\n",
       "5970     2h 45m\n",
       "5971    30h 40m\n",
       "5972    13h 30m\n",
       "Name: Duration, Length: 5973, dtype: object"
      ]
     },
     "execution_count": 24,
     "metadata": {},
     "output_type": "execute_result"
    }
   ],
   "source": [
    "train['Duration']"
   ]
  },
  {
   "cell_type": "code",
   "execution_count": 25,
   "metadata": {},
   "outputs": [],
   "source": [
    "train['Duration']=  train['Duration'].str.replace(\"h\", '*1').str.replace(' ','+').str.replace('m','/60').apply(eval)\n",
    "val['Duration']=  val['Duration'].str.replace(\"h\", '*1').str.replace(' ','+').str.replace('m','/60').apply(eval)\n",
    "test['Duration']=  test['Duration'].str.replace(\"h\", '*1').str.replace(' ','+').str.replace('m','/60').apply(eval)"
   ]
  },
  {
   "cell_type": "code",
   "execution_count": 26,
   "metadata": {},
   "outputs": [
    {
     "data": {
      "text/plain": [
       "0        2.833333\n",
       "1        2.833333\n",
       "2        1.500000\n",
       "3        8.166667\n",
       "4       24.833333\n",
       "          ...    \n",
       "5968    10.166667\n",
       "5969     1.500000\n",
       "5970     2.750000\n",
       "5971    30.666667\n",
       "5972    13.500000\n",
       "Name: Duration, Length: 5973, dtype: float64"
      ]
     },
     "execution_count": 26,
     "metadata": {},
     "output_type": "execute_result"
    }
   ],
   "source": [
    "train['Duration']"
   ]
  },
  {
   "cell_type": "code",
   "execution_count": 27,
   "metadata": {},
   "outputs": [
    {
     "data": {
      "text/plain": [
       "<AxesSubplot:xlabel='Additional_Info', ylabel='count'>"
      ]
     },
     "execution_count": 27,
     "metadata": {},
     "output_type": "execute_result"
    },
    {
     "data": {
      "image/png": "[encoded data removed]",
      "text/plain": [
       "<Figure size 432x288 with 1 Axes>"
      ]
     },
     "metadata": {
      "needs_background": "light"
     },
     "output_type": "display_data"
    }
   ],
   "source": [
    "sns.countplot(x='Additional_Info',data=train)"
   ]
  },
  {
   "cell_type": "code",
   "execution_count": 28,
   "metadata": {
    "scrolled": true
   },
   "outputs": [
    {
     "data": {
      "text/plain": [
       "No info                         4694\n",
       "In-flight meal not included     1088\n",
       "No check-in baggage included     175\n",
       "1 Long layover                    11\n",
       "Change airports                    2\n",
       "No Info                            1\n",
       "2 Long layover                     1\n",
       "1 Short layover                    1\n",
       "Name: Additional_Info, dtype: int64"
      ]
     },
     "execution_count": 28,
     "metadata": {},
     "output_type": "execute_result"
    }
   ],
   "source": [
    "train['Additional_Info'].value_counts()"
   ]
  },
  {
   "cell_type": "code",
   "execution_count": 29,
   "metadata": {},
   "outputs": [
    {
     "data": {
      "text/plain": [
       "No info                         1003\n",
       "In-flight meal not included      248\n",
       "No check-in baggage included      25\n",
       "1 Long layover                     3\n",
       "Change airports                    1\n",
       "Name: Additional_Info, dtype: int64"
      ]
     },
     "execution_count": 29,
     "metadata": {},
     "output_type": "execute_result"
    }
   ],
   "source": [
    "test['Additional_Info'].value_counts()"
   ]
  },
  {
   "cell_type": "code",
   "execution_count": 30,
   "metadata": {},
   "outputs": [
    {
     "data": {
      "text/plain": [
       "No info                         987\n",
       "In-flight meal not included     239\n",
       "No check-in baggage included     49\n",
       "Change airports                   2\n",
       "No Info                           1\n",
       "1 Long layover                    1\n",
       "Red-eye flight                    1\n",
       "Name: Additional_Info, dtype: int64"
      ]
     },
     "execution_count": 30,
     "metadata": {},
     "output_type": "execute_result"
    }
   ],
   "source": [
    "val['Additional_Info'].value_counts()"
   ]
  },
  {
   "cell_type": "code",
   "execution_count": 31,
   "metadata": {},
   "outputs": [],
   "source": [
    "train['Additional_Info'] = np.where(train['Additional_Info']=='No Info','No info',train['Additional_Info'])\n",
    "val['Additional_Info'] = np.where(val['Additional_Info']=='No Info','No info',val['Additional_Info'])"
   ]
  },
  {
   "cell_type": "code",
   "execution_count": 32,
   "metadata": {},
   "outputs": [],
   "source": [
    "train[\"Additional_Info\"].replace({'Change airports':'Other', \n",
    "                               'Business class':'Other',\n",
    "                               '1 Short layover':'Other',\n",
    "                               '1 Long layover':'Other',\n",
    "                               'Red-eye flight':'Other',\n",
    "                               '2 Long layover':'Other',   \n",
    "                              },inplace=True)"
   ]
  },
  {
   "cell_type": "code",
   "execution_count": 33,
   "metadata": {},
   "outputs": [],
   "source": [
    "test[\"Additional_Info\"].replace({'Change airports':'Other', \n",
    "                               '1 Long layover':'Other',  \n",
    "                              },inplace=True)"
   ]
  },
  {
   "cell_type": "code",
   "execution_count": 34,
   "metadata": {},
   "outputs": [],
   "source": [
    "val[\"Additional_Info\"].replace({'Change airports':'Other', \n",
    "                               '1 Long layover':'Other',\n",
    "                                'Red-eye flight':'Other',\n",
    "                              },inplace=True)"
   ]
  },
  {
   "cell_type": "code",
   "execution_count": 35,
   "metadata": {},
   "outputs": [],
   "source": [
    "train['Date_of_Journey']=pd.to_datetime(train['Date_of_Journey'])"
   ]
  },
  {
   "cell_type": "code",
   "execution_count": 36,
   "metadata": {},
   "outputs": [
    {
     "data": {
      "image/png": "[encoded data removed]",
      "text/plain": [
       "<Figure size 720x432 with 1 Axes>"
      ]
     },
     "metadata": {
      "needs_background": "light"
     },
     "output_type": "display_data"
    }
   ],
   "source": [
    "plt.figure(figsize=(10,6))\n",
    "train.groupby(train['Date_of_Journey'].dt.month)['Price'].mean().plot()\n",
    "plt.xlabel(\"month\")\n",
    "plt.ylabel(\"Mean Price\")\n",
    "plt.show()"
   ]
  },
  {
   "cell_type": "code",
   "execution_count": 37,
   "metadata": {},
   "outputs": [
    {
     "data": {
      "image/png": "[encoded data removed]",
      "text/plain": [
       "<Figure size 720x432 with 1 Axes>"
      ]
     },
     "metadata": {
      "needs_background": "light"
     },
     "output_type": "display_data"
    }
   ],
   "source": [
    "plt.figure(figsize=(10,6))\n",
    "train.groupby(train['Date_of_Journey'].dt.week)['Price'].mean().plot()\n",
    "plt.xlabel(\"week\")\n",
    "plt.ylabel(\"Mean Price\")\n",
    "plt.show()"
   ]
  },
  {
   "cell_type": "code",
   "execution_count": 38,
   "metadata": {},
   "outputs": [
    {
     "data": {
      "image/png": "[encoded data removed]",
      "text/plain": [
       "<Figure size 720x432 with 1 Axes>"
      ]
     },
     "metadata": {
      "needs_background": "light"
     },
     "output_type": "display_data"
    }
   ],
   "source": [
    "plt.figure(figsize=(10,6))\n",
    "train.groupby(train['Date_of_Journey'].dt.quarter)['Price'].mean().plot()\n",
    "plt.xlabel(\"quarter\")\n",
    "plt.ylabel(\"Mean Price\")\n",
    "plt.show()"
   ]
  },
  {
   "cell_type": "code",
   "execution_count": 39,
   "metadata": {},
   "outputs": [
    {
     "data": {
      "image/png": "[encoded data removed]",
      "text/plain": [
       "<Figure size 720x432 with 1 Axes>"
      ]
     },
     "metadata": {
      "needs_background": "light"
     },
     "output_type": "display_data"
    }
   ],
   "source": [
    "plt.figure(figsize=(10,6))\n",
    "train.groupby(train['Date_of_Journey'].dt.day)['Price'].mean().plot()\n",
    "plt.xlabel(\"dates\")\n",
    "plt.ylabel(\"Mean Price\")\n",
    "plt.show()"
   ]
  },
  {
   "cell_type": "code",
   "execution_count": 40,
   "metadata": {},
   "outputs": [
    {
     "data": {
      "text/plain": [
       "1 stop          3145\n",
       "non-stop        1966\n",
       "2 stops          839\n",
       "3 or 4 stops      23\n",
       "Name: Total_Stops, dtype: int64"
      ]
     },
     "execution_count": 40,
     "metadata": {},
     "output_type": "execute_result"
    }
   ],
   "source": [
    "train['Total_Stops'].value_counts()"
   ]
  },
  {
   "cell_type": "code",
   "execution_count": 41,
   "metadata": {},
   "outputs": [
    {
     "data": {
      "text/html": [
       "<div>\n",
       "<style scoped>\n",
       "    .dataframe tbody tr th:only-of-type {\n",
       "        vertical-align: middle;\n",
       "    }\n",
       "\n",
       "    .dataframe tbody tr th {\n",
       "        vertical-align: top;\n",
       "    }\n",
       "\n",
       "    .dataframe thead th {\n",
       "        text-align: right;\n",
       "    }\n",
       "</style>\n",
       "<table border=\"1\" class=\"dataframe\">\n",
       "  <thead>\n",
       "    <tr style=\"text-align: right;\">\n",
       "      <th></th>\n",
       "      <th>Airline</th>\n",
       "      <th>Date_of_Journey</th>\n",
       "      <th>Source</th>\n",
       "      <th>Destination</th>\n",
       "      <th>Dep_Time</th>\n",
       "      <th>Arrival_Time</th>\n",
       "      <th>Duration</th>\n",
       "      <th>Total_Stops</th>\n",
       "      <th>Additional_Info</th>\n",
       "      <th>Price</th>\n",
       "    </tr>\n",
       "  </thead>\n",
       "  <tbody>\n",
       "    <tr>\n",
       "      <th>0</th>\n",
       "      <td>IndiGo</td>\n",
       "      <td>2019-09-04</td>\n",
       "      <td>Banglore</td>\n",
       "      <td>Delhi</td>\n",
       "      <td>4.000000</td>\n",
       "      <td>6.833333</td>\n",
       "      <td>2.833333</td>\n",
       "      <td>non-stop</td>\n",
       "      <td>No info</td>\n",
       "      <td>3943.0</td>\n",
       "    </tr>\n",
       "    <tr>\n",
       "      <th>1</th>\n",
       "      <td>IndiGo</td>\n",
       "      <td>2019-03-06</td>\n",
       "      <td>Banglore</td>\n",
       "      <td>Delhi</td>\n",
       "      <td>8.500000</td>\n",
       "      <td>11.333333</td>\n",
       "      <td>2.833333</td>\n",
       "      <td>non-stop</td>\n",
       "      <td>No info</td>\n",
       "      <td>4823.0</td>\n",
       "    </tr>\n",
       "    <tr>\n",
       "      <th>2</th>\n",
       "      <td>Jet Airways</td>\n",
       "      <td>2019-09-06</td>\n",
       "      <td>Mumbai</td>\n",
       "      <td>Hyderabad</td>\n",
       "      <td>19.583333</td>\n",
       "      <td>21.083333</td>\n",
       "      <td>1.500000</td>\n",
       "      <td>non-stop</td>\n",
       "      <td>In-flight meal not included</td>\n",
       "      <td>3210.0</td>\n",
       "    </tr>\n",
       "    <tr>\n",
       "      <th>3</th>\n",
       "      <td>Multiple carriers</td>\n",
       "      <td>2019-05-27</td>\n",
       "      <td>Delhi</td>\n",
       "      <td>Cochin</td>\n",
       "      <td>12.833333</td>\n",
       "      <td>21.000000</td>\n",
       "      <td>8.166667</td>\n",
       "      <td>1 stop</td>\n",
       "      <td>No info</td>\n",
       "      <td>7005.0</td>\n",
       "    </tr>\n",
       "    <tr>\n",
       "      <th>4</th>\n",
       "      <td>Air India</td>\n",
       "      <td>2019-06-06</td>\n",
       "      <td>Delhi</td>\n",
       "      <td>Cochin</td>\n",
       "      <td>6.833333</td>\n",
       "      <td>7.666667</td>\n",
       "      <td>24.833333</td>\n",
       "      <td>2 stops</td>\n",
       "      <td>No info</td>\n",
       "      <td>13381.0</td>\n",
       "    </tr>\n",
       "  </tbody>\n",
       "</table>\n",
       "</div>"
      ],
      "text/plain": [
       "             Airline Date_of_Journey    Source Destination   Dep_Time  \\\n",
       "0             IndiGo      2019-09-04  Banglore       Delhi   4.000000   \n",
       "1             IndiGo      2019-03-06  Banglore       Delhi   8.500000   \n",
       "2        Jet Airways      2019-09-06    Mumbai   Hyderabad  19.583333   \n",
       "3  Multiple carriers      2019-05-27     Delhi      Cochin  12.833333   \n",
       "4          Air India      2019-06-06     Delhi      Cochin   6.833333   \n",
       "\n",
       "   Arrival_Time   Duration Total_Stops              Additional_Info    Price  \n",
       "0      6.833333   2.833333    non-stop                      No info   3943.0  \n",
       "1     11.333333   2.833333    non-stop                      No info   4823.0  \n",
       "2     21.083333   1.500000    non-stop  In-flight meal not included   3210.0  \n",
       "3     21.000000   8.166667      1 stop                      No info   7005.0  \n",
       "4      7.666667  24.833333     2 stops                      No info  13381.0  "
      ]
     },
     "execution_count": 41,
     "metadata": {},
     "output_type": "execute_result"
    }
   ],
   "source": [
    "train.head()"
   ]
  },
  {
   "cell_type": "code",
   "execution_count": 42,
   "metadata": {},
   "outputs": [],
   "source": [
    "mean_source = train.groupby(train['Source'])['Price'].mean().to_dict()\n",
    "train.loc[:,'Source'] =  train.loc[:,'Source'].map(mean_source)\n",
    "test.loc[:,'Source'] =  test.loc[:,'Source'].map(mean_source)\n",
    "val.loc[:,'Source'] =  val.loc[:,'Source'].map(mean_source)"
   ]
  },
  {
   "cell_type": "code",
   "execution_count": 43,
   "metadata": {},
   "outputs": [],
   "source": [
    "mean_destination = train.groupby(train['Destination'])['Price'].mean().to_dict()\n",
    "train.loc[:,'Destination'] =  train.loc[:,'Destination'].map(mean_destination)\n",
    "test.loc[:,'Destination'] =  test.loc[:,'Destination'].map(mean_destination)\n",
    "val.loc[:,'Destination'] =  val.loc[:,'Destination'].map(mean_destination)"
   ]
  },
  {
   "cell_type": "code",
   "execution_count": 44,
   "metadata": {},
   "outputs": [],
   "source": [
    "ts_dict = {'1 stop' : 0, 'non-stop':1, '2 stops':2, '3 or 4 stops':3}\n",
    "train.loc[:,'Total_Stops'] =  train.loc[:,'Total_Stops'].map(ts_dict)\n",
    "test.loc[:,'Total_Stops'] =  test.loc[:,'Total_Stops'].map(ts_dict)\n",
    "val.loc[:,'Total_Stops'] =  val.loc[:,'Total_Stops'].map(ts_dict)"
   ]
  },
  {
   "cell_type": "code",
   "execution_count": 45,
   "metadata": {},
   "outputs": [
    {
     "data": {
      "text/plain": [
       "No info                         4695\n",
       "In-flight meal not included     1088\n",
       "No check-in baggage included     175\n",
       "Other                             15\n",
       "Name: Additional_Info, dtype: int64"
      ]
     },
     "execution_count": 45,
     "metadata": {},
     "output_type": "execute_result"
    }
   ],
   "source": [
    "train[\"Additional_Info\"].value_counts()"
   ]
  },
  {
   "cell_type": "code",
   "execution_count": 46,
   "metadata": {},
   "outputs": [],
   "source": [
    "ai_dict = {'No info' : 0, 'In-flight meal not included':1, 'No check-in baggage included':2, 'Other':3}\n",
    "train.loc[:,'Additional_Info'] =  train.loc[:,'Additional_Info'].map(ai_dict)\n",
    "test.loc[:,'Additional_Info'] =  test.loc[:,'Additional_Info'].map(ai_dict)\n",
    "val.loc[:,'Additional_Info'] =  val.loc[:,'Additional_Info'].map(ai_dict)"
   ]
  },
  {
   "cell_type": "code",
   "execution_count": 47,
   "metadata": {},
   "outputs": [],
   "source": [
    "mean_airline = train.groupby(train['Airline'])['Price'].mean().to_dict()\n",
    "train.loc[:,'Airline'] =  train.loc[:,'Airline'].map(mean_airline)\n",
    "test.loc[:,'Airline'] =  test.loc[:,'Airline'].map(mean_airline)\n",
    "val.loc[:,'Airline'] =  val.loc[:,'Airline'].map(mean_airline)"
   ]
  },
  {
   "cell_type": "code",
   "execution_count": 48,
   "metadata": {
    "scrolled": false
   },
   "outputs": [
    {
     "data": {
      "text/html": [
       "<div>\n",
       "<style scoped>\n",
       "    .dataframe tbody tr th:only-of-type {\n",
       "        vertical-align: middle;\n",
       "    }\n",
       "\n",
       "    .dataframe tbody tr th {\n",
       "        vertical-align: top;\n",
       "    }\n",
       "\n",
       "    .dataframe thead th {\n",
       "        text-align: right;\n",
       "    }\n",
       "</style>\n",
       "<table border=\"1\" class=\"dataframe\">\n",
       "  <thead>\n",
       "    <tr style=\"text-align: right;\">\n",
       "      <th></th>\n",
       "      <th>Airline</th>\n",
       "      <th>Date_of_Journey</th>\n",
       "      <th>Source</th>\n",
       "      <th>Destination</th>\n",
       "      <th>Dep_Time</th>\n",
       "      <th>Arrival_Time</th>\n",
       "      <th>Duration</th>\n",
       "      <th>Total_Stops</th>\n",
       "      <th>Additional_Info</th>\n",
       "      <th>Price</th>\n",
       "    </tr>\n",
       "  </thead>\n",
       "  <tbody>\n",
       "    <tr>\n",
       "      <th>0</th>\n",
       "      <td>5691.869304</td>\n",
       "      <td>2019-09-04</td>\n",
       "      <td>7869.987664</td>\n",
       "      <td>5153.533333</td>\n",
       "      <td>4.000000</td>\n",
       "      <td>6.833333</td>\n",
       "      <td>2.833333</td>\n",
       "      <td>1</td>\n",
       "      <td>0</td>\n",
       "      <td>3943.0</td>\n",
       "    </tr>\n",
       "    <tr>\n",
       "      <th>1</th>\n",
       "      <td>5691.869304</td>\n",
       "      <td>2019-03-06</td>\n",
       "      <td>7869.987664</td>\n",
       "      <td>5153.533333</td>\n",
       "      <td>8.500000</td>\n",
       "      <td>11.333333</td>\n",
       "      <td>2.833333</td>\n",
       "      <td>1</td>\n",
       "      <td>0</td>\n",
       "      <td>4823.0</td>\n",
       "    </tr>\n",
       "    <tr>\n",
       "      <th>2</th>\n",
       "      <td>11679.084738</td>\n",
       "      <td>2019-09-06</td>\n",
       "      <td>5055.932990</td>\n",
       "      <td>5055.932990</td>\n",
       "      <td>19.583333</td>\n",
       "      <td>21.083333</td>\n",
       "      <td>1.500000</td>\n",
       "      <td>1</td>\n",
       "      <td>1</td>\n",
       "      <td>3210.0</td>\n",
       "    </tr>\n",
       "    <tr>\n",
       "      <th>3</th>\n",
       "      <td>10735.014859</td>\n",
       "      <td>2019-05-27</td>\n",
       "      <td>10499.676161</td>\n",
       "      <td>10499.676161</td>\n",
       "      <td>12.833333</td>\n",
       "      <td>21.000000</td>\n",
       "      <td>8.166667</td>\n",
       "      <td>0</td>\n",
       "      <td>0</td>\n",
       "      <td>7005.0</td>\n",
       "    </tr>\n",
       "    <tr>\n",
       "      <th>4</th>\n",
       "      <td>9580.873469</td>\n",
       "      <td>2019-06-06</td>\n",
       "      <td>10499.676161</td>\n",
       "      <td>10499.676161</td>\n",
       "      <td>6.833333</td>\n",
       "      <td>7.666667</td>\n",
       "      <td>24.833333</td>\n",
       "      <td>2</td>\n",
       "      <td>0</td>\n",
       "      <td>13381.0</td>\n",
       "    </tr>\n",
       "  </tbody>\n",
       "</table>\n",
       "</div>"
      ],
      "text/plain": [
       "        Airline Date_of_Journey        Source   Destination   Dep_Time  \\\n",
       "0   5691.869304      2019-09-04   7869.987664   5153.533333   4.000000   \n",
       "1   5691.869304      2019-03-06   7869.987664   5153.533333   8.500000   \n",
       "2  11679.084738      2019-09-06   5055.932990   5055.932990  19.583333   \n",
       "3  10735.014859      2019-05-27  10499.676161  10499.676161  12.833333   \n",
       "4   9580.873469      2019-06-06  10499.676161  10499.676161   6.833333   \n",
       "\n",
       "   Arrival_Time   Duration  Total_Stops  Additional_Info    Price  \n",
       "0      6.833333   2.833333            1                0   3943.0  \n",
       "1     11.333333   2.833333            1                0   4823.0  \n",
       "2     21.083333   1.500000            1                1   3210.0  \n",
       "3     21.000000   8.166667            0                0   7005.0  \n",
       "4      7.666667  24.833333            2                0  13381.0  "
      ]
     },
     "execution_count": 48,
     "metadata": {},
     "output_type": "execute_result"
    }
   ],
   "source": [
    "train.head()"
   ]
  },
  {
   "cell_type": "markdown",
   "metadata": {},
   "source": [
    "## Feature Engneering"
   ]
  },
  {
   "cell_type": "code",
   "execution_count": 49,
   "metadata": {},
   "outputs": [],
   "source": [
    "train['month'] = train['Date_of_Journey'].dt.month\n",
    "train['week'] = train['Date_of_Journey'].dt.week\n",
    "train['quarter'] = train['Date_of_Journey'].dt.quarter\n",
    "train['date of month'] = train['Date_of_Journey'].dt.day\n",
    "\n",
    "test['Date_of_Journey']=pd.to_datetime(test['Date_of_Journey'])\n",
    "test['month'] = test['Date_of_Journey'].dt.month\n",
    "test['week'] = test['Date_of_Journey'].dt.week\n",
    "test['quarter'] = test['Date_of_Journey'].dt.quarter\n",
    "test['date of month'] = test['Date_of_Journey'].dt.day\n",
    "\n",
    "val['Date_of_Journey']=pd.to_datetime(val['Date_of_Journey'])\n",
    "val['month'] = val['Date_of_Journey'].dt.month\n",
    "val['week'] = val['Date_of_Journey'].dt.week\n",
    "val['quarter'] = val['Date_of_Journey'].dt.quarter\n",
    "val['date of month'] = val['Date_of_Journey'].dt.day"
   ]
  },
  {
   "cell_type": "code",
   "execution_count": 50,
   "metadata": {},
   "outputs": [],
   "source": [
    "def days(date):\n",
    "    day, month, year = date.day , date.month , date.year   \n",
    "    day_name = datetime.date(int(year), int(month), int(day)) \n",
    "    return (day_name.strftime(\"%A\")) "
   ]
  },
  {
   "cell_type": "code",
   "execution_count": 51,
   "metadata": {},
   "outputs": [],
   "source": [
    "train['day'] = train['Date_of_Journey'].apply(days)\n",
    "test['day'] = test['Date_of_Journey'].apply(days)\n",
    "val['day'] = val['Date_of_Journey'].apply(days)"
   ]
  },
  {
   "cell_type": "code",
   "execution_count": 52,
   "metadata": {},
   "outputs": [],
   "source": [
    "day_dict = {'Sunday' : 0, 'Monday':1, 'Tuesday':2, 'Wednesday':3, 'Thursday':4, 'Friday':5, 'Saturday':6}\n",
    "train.loc[:,'day'] =  train.loc[:,'day'].map(day_dict)\n",
    "test.loc[:,'day'] =  test.loc[:,'day'].map(day_dict)\n",
    "val.loc[:,'day'] =  val.loc[:,'day'].map(day_dict)"
   ]
  },
  {
   "cell_type": "code",
   "execution_count": 53,
   "metadata": {},
   "outputs": [],
   "source": [
    "train.drop(labels=['Date_of_Journey'], axis=1, columns=None,inplace=True)\n",
    "test.drop(labels=['Date_of_Journey'], axis=1, columns=None,inplace=True)\n",
    "val.drop(labels=['Date_of_Journey'], axis=1, columns=None,inplace=True)"
   ]
  },
  {
   "cell_type": "code",
   "execution_count": 54,
   "metadata": {},
   "outputs": [
    {
     "data": {
      "text/plain": [
       "Airline            0\n",
       "Source             0\n",
       "Destination        0\n",
       "Dep_Time           0\n",
       "Arrival_Time       0\n",
       "Duration           0\n",
       "Total_Stops        0\n",
       "Additional_Info    0\n",
       "Price              0\n",
       "month              0\n",
       "week               0\n",
       "quarter            0\n",
       "date of month      0\n",
       "day                0\n",
       "dtype: int64"
      ]
     },
     "execution_count": 54,
     "metadata": {},
     "output_type": "execute_result"
    }
   ],
   "source": [
    "test.isnull().sum()"
   ]
  },
  {
   "cell_type": "code",
   "execution_count": 55,
   "metadata": {},
   "outputs": [
    {
     "data": {
      "text/plain": [
       "Airline            0\n",
       "Source             0\n",
       "Destination        0\n",
       "Dep_Time           0\n",
       "Arrival_Time       0\n",
       "Duration           0\n",
       "Total_Stops        0\n",
       "Additional_Info    0\n",
       "Price              0\n",
       "month              0\n",
       "week               0\n",
       "quarter            0\n",
       "date of month      0\n",
       "day                0\n",
       "dtype: int64"
      ]
     },
     "execution_count": 55,
     "metadata": {},
     "output_type": "execute_result"
    }
   ],
   "source": [
    "val.isnull().sum()"
   ]
  },
  {
   "cell_type": "code",
   "execution_count": 56,
   "metadata": {},
   "outputs": [
    {
     "data": {
      "text/html": [
       "<div>\n",
       "<style scoped>\n",
       "    .dataframe tbody tr th:only-of-type {\n",
       "        vertical-align: middle;\n",
       "    }\n",
       "\n",
       "    .dataframe tbody tr th {\n",
       "        vertical-align: top;\n",
       "    }\n",
       "\n",
       "    .dataframe thead th {\n",
       "        text-align: right;\n",
       "    }\n",
       "</style>\n",
       "<table border=\"1\" class=\"dataframe\">\n",
       "  <thead>\n",
       "    <tr style=\"text-align: right;\">\n",
       "      <th></th>\n",
       "      <th>Airline</th>\n",
       "      <th>Source</th>\n",
       "      <th>Destination</th>\n",
       "      <th>Dep_Time</th>\n",
       "      <th>Arrival_Time</th>\n",
       "      <th>Duration</th>\n",
       "      <th>Total_Stops</th>\n",
       "      <th>Additional_Info</th>\n",
       "      <th>Price</th>\n",
       "      <th>month</th>\n",
       "      <th>week</th>\n",
       "      <th>quarter</th>\n",
       "      <th>date of month</th>\n",
       "      <th>day</th>\n",
       "    </tr>\n",
       "  </thead>\n",
       "  <tbody>\n",
       "    <tr>\n",
       "      <th>0</th>\n",
       "      <td>5691.869304</td>\n",
       "      <td>7869.987664</td>\n",
       "      <td>5153.533333</td>\n",
       "      <td>4.000000</td>\n",
       "      <td>6.833333</td>\n",
       "      <td>2.833333</td>\n",
       "      <td>1</td>\n",
       "      <td>0</td>\n",
       "      <td>3943.0</td>\n",
       "      <td>9</td>\n",
       "      <td>36</td>\n",
       "      <td>3</td>\n",
       "      <td>4</td>\n",
       "      <td>3</td>\n",
       "    </tr>\n",
       "    <tr>\n",
       "      <th>1</th>\n",
       "      <td>5691.869304</td>\n",
       "      <td>7869.987664</td>\n",
       "      <td>5153.533333</td>\n",
       "      <td>8.500000</td>\n",
       "      <td>11.333333</td>\n",
       "      <td>2.833333</td>\n",
       "      <td>1</td>\n",
       "      <td>0</td>\n",
       "      <td>4823.0</td>\n",
       "      <td>3</td>\n",
       "      <td>10</td>\n",
       "      <td>1</td>\n",
       "      <td>6</td>\n",
       "      <td>3</td>\n",
       "    </tr>\n",
       "    <tr>\n",
       "      <th>2</th>\n",
       "      <td>11679.084738</td>\n",
       "      <td>5055.932990</td>\n",
       "      <td>5055.932990</td>\n",
       "      <td>19.583333</td>\n",
       "      <td>21.083333</td>\n",
       "      <td>1.500000</td>\n",
       "      <td>1</td>\n",
       "      <td>1</td>\n",
       "      <td>3210.0</td>\n",
       "      <td>9</td>\n",
       "      <td>36</td>\n",
       "      <td>3</td>\n",
       "      <td>6</td>\n",
       "      <td>5</td>\n",
       "    </tr>\n",
       "    <tr>\n",
       "      <th>3</th>\n",
       "      <td>10735.014859</td>\n",
       "      <td>10499.676161</td>\n",
       "      <td>10499.676161</td>\n",
       "      <td>12.833333</td>\n",
       "      <td>21.000000</td>\n",
       "      <td>8.166667</td>\n",
       "      <td>0</td>\n",
       "      <td>0</td>\n",
       "      <td>7005.0</td>\n",
       "      <td>5</td>\n",
       "      <td>22</td>\n",
       "      <td>2</td>\n",
       "      <td>27</td>\n",
       "      <td>1</td>\n",
       "    </tr>\n",
       "    <tr>\n",
       "      <th>4</th>\n",
       "      <td>9580.873469</td>\n",
       "      <td>10499.676161</td>\n",
       "      <td>10499.676161</td>\n",
       "      <td>6.833333</td>\n",
       "      <td>7.666667</td>\n",
       "      <td>24.833333</td>\n",
       "      <td>2</td>\n",
       "      <td>0</td>\n",
       "      <td>13381.0</td>\n",
       "      <td>6</td>\n",
       "      <td>23</td>\n",
       "      <td>2</td>\n",
       "      <td>6</td>\n",
       "      <td>4</td>\n",
       "    </tr>\n",
       "  </tbody>\n",
       "</table>\n",
       "</div>"
      ],
      "text/plain": [
       "        Airline        Source   Destination   Dep_Time  Arrival_Time  \\\n",
       "0   5691.869304   7869.987664   5153.533333   4.000000      6.833333   \n",
       "1   5691.869304   7869.987664   5153.533333   8.500000     11.333333   \n",
       "2  11679.084738   5055.932990   5055.932990  19.583333     21.083333   \n",
       "3  10735.014859  10499.676161  10499.676161  12.833333     21.000000   \n",
       "4   9580.873469  10499.676161  10499.676161   6.833333      7.666667   \n",
       "\n",
       "    Duration  Total_Stops  Additional_Info    Price  month  week  quarter  \\\n",
       "0   2.833333            1                0   3943.0      9    36        3   \n",
       "1   2.833333            1                0   4823.0      3    10        1   \n",
       "2   1.500000            1                1   3210.0      9    36        3   \n",
       "3   8.166667            0                0   7005.0      5    22        2   \n",
       "4  24.833333            2                0  13381.0      6    23        2   \n",
       "\n",
       "   date of month  day  \n",
       "0              4    3  \n",
       "1              6    3  \n",
       "2              6    5  \n",
       "3             27    1  \n",
       "4              6    4  "
      ]
     },
     "execution_count": 56,
     "metadata": {},
     "output_type": "execute_result"
    }
   ],
   "source": [
    "train.head()"
   ]
  },
  {
   "cell_type": "markdown",
   "metadata": {},
   "source": [
    "## Feature Selection"
   ]
  },
  {
   "cell_type": "code",
   "execution_count": 57,
   "metadata": {},
   "outputs": [
    {
     "data": {
      "text/plain": [
       "14"
      ]
     },
     "execution_count": 57,
     "metadata": {},
     "output_type": "execute_result"
    }
   ],
   "source": [
    "len(train.columns)"
   ]
  },
  {
   "cell_type": "code",
   "execution_count": 58,
   "metadata": {},
   "outputs": [],
   "source": [
    "selector = SelectKBest(f_regression, k=13)    #13 is found after checking all, it is most appropriate number\n",
    "selector.fit(train.drop(labels=['Price'], axis=1, columns=None),train.Price)\n",
    "cols = selector.get_support(indices=True)\n",
    "Features = train.drop(labels=['Price'], axis=1, columns=None).iloc[:,cols].columns.tolist()"
   ]
  },
  {
   "cell_type": "code",
   "execution_count": 59,
   "metadata": {},
   "outputs": [
    {
     "data": {
      "text/plain": [
       "['Airline',\n",
       " 'Source',\n",
       " 'Destination',\n",
       " 'Dep_Time',\n",
       " 'Arrival_Time',\n",
       " 'Duration',\n",
       " 'Total_Stops',\n",
       " 'Additional_Info',\n",
       " 'month',\n",
       " 'week',\n",
       " 'quarter',\n",
       " 'date of month',\n",
       " 'day']"
      ]
     },
     "execution_count": 59,
     "metadata": {},
     "output_type": "execute_result"
    }
   ],
   "source": [
    "Features"
   ]
  },
  {
   "cell_type": "markdown",
   "metadata": {},
   "source": [
    "Didn't get much help from this feature selection,  will do in modeling itself"
   ]
  },
  {
   "cell_type": "code",
   "execution_count": 60,
   "metadata": {},
   "outputs": [],
   "source": [
    "RMSE_Score = []\n",
    "R2_Score = []\n",
    "Algorithm = []"
   ]
  },
  {
   "cell_type": "markdown",
   "metadata": {},
   "source": [
    "### Random Forest Regressor"
   ]
  },
  {
   "cell_type": "code",
   "execution_count": 61,
   "metadata": {},
   "outputs": [
    {
     "name": "stdout",
     "output_type": "stream",
     "text": [
      "RMSE : 1285.6239066347648\n",
      "R2 Score :  0.9079985857328343\n"
     ]
    }
   ],
   "source": [
    "Algorithm.append('Random Forest Regressor')\n",
    "rfr = RandomForestRegressor()\n",
    "rfr.fit(train[Features],train.Price)\n",
    "predicted = rfr.predict(val[Features])\n",
    "rmse = mean_squared_error(val.Price, predicted, squared=False)\n",
    "print('RMSE :',rmse)\n",
    "print('R2 Score : ',r2_score(val.Price, predicted))"
   ]
  },
  {
   "cell_type": "code",
   "execution_count": 62,
   "metadata": {},
   "outputs": [
    {
     "name": "stdout",
     "output_type": "stream",
     "text": [
      "RMSE : 1281.6606925488495\n",
      "R2 Score :  0.9110643542413247\n"
     ]
    }
   ],
   "source": [
    "rfr = RandomForestRegressor()\n",
    "rfr.fit(train.append(val)[Features],train.append(val)['Price'])\n",
    "predicted = rfr.predict(test[Features])\n",
    "rmse = mean_squared_error(test.Price, predicted, squared=False)\n",
    "print('RMSE :',rmse)\n",
    "print('R2 Score : ',r2_score(test.Price, predicted))"
   ]
  },
  {
   "cell_type": "code",
   "execution_count": 63,
   "metadata": {},
   "outputs": [
    {
     "name": "stdout",
     "output_type": "stream",
     "text": [
      "2 \t 1302.246492702012\n",
      "5 \t 1284.7587683103995\n",
      "8 \t 1283.0351851804955\n",
      "12 \t 1314.6075165540203\n",
      "24 \t 1399.1036734648862\n"
     ]
    }
   ],
   "source": [
    "#min_samples_split : The minimum number of samples required to split an internal node\n",
    "iters = [2, 5, 8, 12,24]\n",
    "for i in iters:\n",
    "    rfr = RandomForestRegressor(max_features =\"auto\",max_depth=None,min_samples_split=i,random_state=42)\n",
    "    rfr.fit(train[Features],train.Price)\n",
    "    predicted = rfr.predict(val[Features])\n",
    "    rmse = mean_squared_error(val.Price, predicted, squared=False)\n",
    "    print(i,'\\t',rmse)"
   ]
  },
  {
   "cell_type": "code",
   "execution_count": 64,
   "metadata": {},
   "outputs": [
    {
     "name": "stdout",
     "output_type": "stream",
     "text": [
      "1 \t 1283.0351851804955\n",
      "2 \t 1285.4779383706639\n",
      "6 \t 1376.110557919145\n",
      "11 \t 1520.927953429579\n",
      "15 \t 1589.864852880742\n"
     ]
    }
   ],
   "source": [
    "#min_samples_leaf\n",
    "iters = [1, 2, 6, 11, 15]\n",
    "for i in iters:\n",
    "    rfr = RandomForestRegressor(min_samples_split=8,min_samples_leaf=i,random_state=42)\n",
    "    rfr.fit(train[Features],train.Price)\n",
    "    predicted = rfr.predict(val[Features])\n",
    "    rmse = mean_squared_error(val.Price, predicted, squared=False)\n",
    "    print(i,'\\t',rmse)"
   ]
  },
  {
   "cell_type": "code",
   "execution_count": 66,
   "metadata": {},
   "outputs": [
    {
     "name": "stdout",
     "output_type": "stream",
     "text": [
      "RMSE : 1272.908617357114\n",
      "R2 Score :  0.9098094412939639\n",
      "\n"
     ]
    }
   ],
   "source": [
    "rfr = RandomForestRegressor(min_samples_split=8,min_samples_leaf=1)\n",
    "rfr.fit(train[Features],train.Price)\n",
    "predicted = rfr.predict(val[Features])\n",
    "rmse = mean_squared_error(val.Price, predicted, squared=False)\n",
    "print('RMSE :',rmse)\n",
    "print('R2 Score : ',r2_score(val.Price, predicted))\n",
    "print()"
   ]
  },
  {
   "cell_type": "code",
   "execution_count": 67,
   "metadata": {},
   "outputs": [
    {
     "name": "stdout",
     "output_type": "stream",
     "text": [
      "RMSE : 1284.6036109692789\n",
      "R2 Score :  0.9106554615583812\n"
     ]
    }
   ],
   "source": [
    "rfr = RandomForestRegressor(min_samples_split=8,min_samples_leaf=1)\n",
    "rfr.fit(train.append(val)[Features],train.append(val)['Price'])\n",
    "predicted = rfr.predict(test[Features])\n",
    "rmse = mean_squared_error(test.Price, predicted, squared=False)\n",
    "r = r2_score(test.Price, predicted)\n",
    "print('RMSE :',rmse)\n",
    "print('R2 Score : ',r)\n",
    "RMSE_Score.append(rmse)\n",
    "R2_Score.append(r)"
   ]
  },
  {
   "cell_type": "markdown",
   "metadata": {},
   "source": [
    "## XGB Regressor"
   ]
  },
  {
   "cell_type": "code",
   "execution_count": 68,
   "metadata": {},
   "outputs": [
    {
     "name": "stdout",
     "output_type": "stream",
     "text": [
      "RMSE : 1197.7400294274678\n",
      "R2 Score :  0.920146905157362\n"
     ]
    }
   ],
   "source": [
    "Algorithm.append('XGB Regressor')\n",
    "rfr = xgb.XGBRegressor()\n",
    "rfr.fit(train[Features],train.Price)\n",
    "predicted = rfr.predict(val[Features])\n",
    "rmse = mean_squared_error(val.Price, predicted, squared=False)\n",
    "print('RMSE :',rmse)\n",
    "print('R2 Score : ',r2_score(val.Price, predicted))"
   ]
  },
  {
   "cell_type": "code",
   "execution_count": 69,
   "metadata": {},
   "outputs": [
    {
     "name": "stdout",
     "output_type": "stream",
     "text": [
      "RMSE : 1323.468652134847\n",
      "R2 Score :  0.9051675325447713\n"
     ]
    }
   ],
   "source": [
    "rfr = xgb.XGBRegressor()\n",
    "rfr.fit(train.append(val)[Features],train.append(val)['Price'])\n",
    "predicted = rfr.predict(test[Features])\n",
    "rmse = mean_squared_error(test.Price, predicted, squared=False)\n",
    "print('RMSE :',rmse)\n",
    "print('R2 Score : ',r2_score(test.Price, predicted))"
   ]
  },
  {
   "cell_type": "code",
   "execution_count": 70,
   "metadata": {},
   "outputs": [
    {
     "data": {
      "image/png": "[encoded data removed]",
      "text/plain": [
       "<Figure size 432x288 with 1 Axes>"
      ]
     },
     "metadata": {
      "needs_background": "light"
     },
     "output_type": "display_data"
    }
   ],
   "source": [
    "from xgboost import plot_importance\n",
    "plot_importance(rfr)\n",
    "plt.show()"
   ]
  },
  {
   "cell_type": "code",
   "execution_count": 71,
   "metadata": {},
   "outputs": [
    {
     "name": "stdout",
     "output_type": "stream",
     "text": [
      "[0.12134325 0.0316016  0.09169053 0.01383708 0.0187627  0.30464193\n",
      " 0.08204439 0.15268531 0.0625805  0.00855794 0.         0.10080091\n",
      " 0.01145385]\n"
     ]
    },
    {
     "data": {
      "image/png": "[encoded data removed]",
      "text/plain": [
       "<Figure size 1080x504 with 1 Axes>"
      ]
     },
     "metadata": {
      "needs_background": "light"
     },
     "output_type": "display_data"
    }
   ],
   "source": [
    "print(rfr.feature_importances_)\n",
    "# plot\n",
    "fig = plt.figure(figsize =(15, 7)) \n",
    "plt.bar(Features, rfr.feature_importances_)\n",
    "plt.show()"
   ]
  },
  {
   "cell_type": "code",
   "execution_count": 72,
   "metadata": {},
   "outputs": [
    {
     "name": "stdout",
     "output_type": "stream",
     "text": [
      "Thresh=0.000, n=13, RMSE: 1197.74, R2_Score: 0.92\n",
      "Thresh=0.009, n=12, RMSE: 1197.74, R2_Score: 0.92\n",
      "Thresh=0.011, n=11, RMSE: 1289.69, R2_Score: 0.91\n",
      "Thresh=0.014, n=10, RMSE: 1274.33, R2_Score: 0.91\n",
      "Thresh=0.019, n=9, RMSE: 1235.52, R2_Score: 0.92\n",
      "Thresh=0.032, n=8, RMSE: 1331.24, R2_Score: 0.90\n",
      "Thresh=0.063, n=7, RMSE: 1355.07, R2_Score: 0.90\n",
      "Thresh=0.082, n=6, RMSE: 1845.51, R2_Score: 0.81\n",
      "Thresh=0.092, n=5, RMSE: 1914.02, R2_Score: 0.80\n",
      "Thresh=0.101, n=4, RMSE: 1950.45, R2_Score: 0.79\n",
      "Thresh=0.121, n=3, RMSE: 2323.39, R2_Score: 0.70\n",
      "Thresh=0.153, n=2, RMSE: 2931.70, R2_Score: 0.52\n",
      "Thresh=0.305, n=1, RMSE: 2996.26, R2_Score: 0.50\n"
     ]
    }
   ],
   "source": [
    "from numpy import sort\n",
    "from sklearn.feature_selection import SelectFromModel\n",
    "thresholds = sort(rfr.feature_importances_)\n",
    "for thresh in thresholds:\n",
    "    # select features using threshold\n",
    "    selection = SelectFromModel(rfr, threshold=thresh, prefit=True)\n",
    "    select_X_train = selection.transform(train[Features])\n",
    "    # train model\n",
    "    selection_model = xgb.XGBRegressor()\n",
    "    selection_model.fit(select_X_train, train.Price)\n",
    "    # eval model\n",
    "    select_X_test = selection.transform(val[Features])\n",
    "    predictions = selection_model.predict(select_X_test)\n",
    "    rmse = mean_squared_error(val.Price, predictions, squared=False)\n",
    "    r = r2_score(val.Price, predictions)\n",
    "    print(\"Thresh=%.3f, n=%d, RMSE: %.2f, R2_Score: %.2f\" % (thresh, select_X_train.shape[1], rmse, r))"
   ]
  },
  {
   "cell_type": "markdown",
   "metadata": {},
   "source": [
    "So all features are needed except quarter"
   ]
  },
  {
   "cell_type": "code",
   "execution_count": 73,
   "metadata": {},
   "outputs": [],
   "source": [
    "Features = train.drop(labels=['Price','quarter'], axis=1, columns=None).columns.tolist()"
   ]
  },
  {
   "cell_type": "code",
   "execution_count": 74,
   "metadata": {},
   "outputs": [
    {
     "name": "stdout",
     "output_type": "stream",
     "text": [
      "0.2 \t 1244.3454998088564\n",
      "0.3 \t 1197.7400294274678\n",
      "0.4 \t 1353.1373424649532\n",
      "0.5 \t 1283.0022512558405\n",
      "0.6 \t 1331.3746145206812\n",
      "0.8 \t 1323.31209572527\n",
      "0.9 \t 1371.008333971494\n"
     ]
    }
   ],
   "source": [
    "iters = [0.2,0.3,0.4,0.5,0.6,0.8,0.9]\n",
    "for i in iters:\n",
    "    rfr = xgb.XGBRegressor(eta = i,random_state=42)\n",
    "    rfr.fit(train[Features],train.Price)\n",
    "    predicted = rfr.predict(val[Features])\n",
    "    rmse = mean_squared_error(val.Price, predicted, squared=False)\n",
    "    print(i,'\\t',rmse)"
   ]
  },
  {
   "cell_type": "code",
   "execution_count": 75,
   "metadata": {},
   "outputs": [
    {
     "name": "stdout",
     "output_type": "stream",
     "text": [
      "3 \t 1489.1242947062963\n",
      "6 \t 1197.7400294274678\n",
      "8 \t 1343.1820972210883\n",
      "10 \t 1378.5648131604028\n"
     ]
    }
   ],
   "source": [
    "#min_samples_split : The minimum number of samples required to split an internal node\n",
    "iters = [3, 6, 8, 10]\n",
    "for i in iters:\n",
    "    rfr = xgb.XGBRegressor(eta = 0.3,max_depth = i,random_state=42)\n",
    "    rfr.fit(train[Features],train.Price)\n",
    "    predicted = rfr.predict(val[Features])\n",
    "    rmse = mean_squared_error(val.Price, predicted, squared=False)\n",
    "    print(i,'\\t',rmse)"
   ]
  },
  {
   "cell_type": "markdown",
   "metadata": {},
   "source": [
    "6 is default"
   ]
  },
  {
   "cell_type": "code",
   "execution_count": 76,
   "metadata": {},
   "outputs": [
    {
     "name": "stdout",
     "output_type": "stream",
     "text": [
      "1 \t 1197.7400294274678\n",
      "3 \t 1248.17567778653\n",
      "5 \t 1254.8628824408286\n",
      "7 \t 1276.0944912646673\n"
     ]
    }
   ],
   "source": [
    "#min_samples_split : The minimum number of samples required to split an internal node\n",
    "iters = [1, 3, 5, 7]\n",
    "for i in iters:\n",
    "    rfr = xgb.XGBRegressor(eta = 0.3,min_child_weight = i,random_state=42)\n",
    "    rfr.fit(train[Features],train.Price)\n",
    "    predicted = rfr.predict(val[Features])\n",
    "    rmse = mean_squared_error(val.Price, predicted, squared=False)\n",
    "    print(i,'\\t',rmse)"
   ]
  },
  {
   "cell_type": "markdown",
   "metadata": {},
   "source": [
    "1 is default"
   ]
  },
  {
   "cell_type": "code",
   "execution_count": 77,
   "metadata": {},
   "outputs": [
    {
     "name": "stdout",
     "output_type": "stream",
     "text": [
      "RMSE : 1323.468652134847\n",
      "R2 Score :  0.9051675325447713\n"
     ]
    }
   ],
   "source": [
    "rfr = xgb.XGBRegressor(eta=0.3)\n",
    "rfr.fit(train.append(val)[Features],train.append(val)['Price'])\n",
    "predicted = rfr.predict(test[Features])\n",
    "rmse = mean_squared_error(test.Price, predicted, squared=False)\n",
    "r = r2_score(test.Price, predicted)\n",
    "print('RMSE :',rmse)\n",
    "print('R2 Score : ',r)\n",
    "RMSE_Score.append(rmse)\n",
    "R2_Score.append(r)"
   ]
  },
  {
   "cell_type": "code",
   "execution_count": 78,
   "metadata": {},
   "outputs": [
    {
     "data": {
      "text/html": [
       "<div>\n",
       "<style scoped>\n",
       "    .dataframe tbody tr th:only-of-type {\n",
       "        vertical-align: middle;\n",
       "    }\n",
       "\n",
       "    .dataframe tbody tr th {\n",
       "        vertical-align: top;\n",
       "    }\n",
       "\n",
       "    .dataframe thead th {\n",
       "        text-align: right;\n",
       "    }\n",
       "</style>\n",
       "<table border=\"1\" class=\"dataframe\">\n",
       "  <thead>\n",
       "    <tr style=\"text-align: right;\">\n",
       "      <th></th>\n",
       "      <th>Algorithm</th>\n",
       "      <th>RMSE_Score</th>\n",
       "      <th>R2_Score</th>\n",
       "    </tr>\n",
       "  </thead>\n",
       "  <tbody>\n",
       "    <tr>\n",
       "      <th>0</th>\n",
       "      <td>Random Forest Regressor</td>\n",
       "      <td>1284.603611</td>\n",
       "      <td>0.910655</td>\n",
       "    </tr>\n",
       "    <tr>\n",
       "      <th>1</th>\n",
       "      <td>XGB Regressor</td>\n",
       "      <td>1323.468652</td>\n",
       "      <td>0.905168</td>\n",
       "    </tr>\n",
       "  </tbody>\n",
       "</table>\n",
       "</div>"
      ],
      "text/plain": [
       "                 Algorithm   RMSE_Score  R2_Score\n",
       "0  Random Forest Regressor  1284.603611  0.910655\n",
       "1            XGB Regressor  1323.468652  0.905168"
      ]
     },
     "execution_count": 78,
     "metadata": {},
     "output_type": "execute_result"
    }
   ],
   "source": [
    "Comparison = pd.DataFrame(list(zip(Algorithm, RMSE_Score, R2_Score)), columns = ['Algorithm', 'RMSE_Score', 'R2_Score'])\n",
    "Comparison"
   ]
  },
  {
   "cell_type": "markdown",
   "metadata": {},
   "source": [
    "# Random Forest Regressor WINS!!"
   ]
  },
  {
   "cell_type": "code",
   "execution_count": 79,
   "metadata": {},
   "outputs": [
    {
     "data": {
      "text/html": [
       "<div>\n",
       "<style scoped>\n",
       "    .dataframe tbody tr th:only-of-type {\n",
       "        vertical-align: middle;\n",
       "    }\n",
       "\n",
       "    .dataframe tbody tr th {\n",
       "        vertical-align: top;\n",
       "    }\n",
       "\n",
       "    .dataframe thead th {\n",
       "        text-align: right;\n",
       "    }\n",
       "</style>\n",
       "<table border=\"1\" class=\"dataframe\">\n",
       "  <thead>\n",
       "    <tr style=\"text-align: right;\">\n",
       "      <th></th>\n",
       "      <th>Airline</th>\n",
       "      <th>Date_of_Journey</th>\n",
       "      <th>Source</th>\n",
       "      <th>Destination</th>\n",
       "      <th>Dep_Time</th>\n",
       "      <th>Arrival_Time</th>\n",
       "      <th>Duration</th>\n",
       "      <th>Total_Stops</th>\n",
       "      <th>Additional_Info</th>\n",
       "    </tr>\n",
       "  </thead>\n",
       "  <tbody>\n",
       "    <tr>\n",
       "      <th>0</th>\n",
       "      <td>SpiceJet</td>\n",
       "      <td>12-05-2019</td>\n",
       "      <td>Kolkata</td>\n",
       "      <td>Banglore</td>\n",
       "      <td>15:05</td>\n",
       "      <td>20:20</td>\n",
       "      <td>5h 15m</td>\n",
       "      <td>1 stop</td>\n",
       "      <td>No info</td>\n",
       "    </tr>\n",
       "    <tr>\n",
       "      <th>1</th>\n",
       "      <td>Air India</td>\n",
       "      <td>15-03-2019</td>\n",
       "      <td>Delhi</td>\n",
       "      <td>Cochin</td>\n",
       "      <td>18:05</td>\n",
       "      <td>21:10</td>\n",
       "      <td>3h 5m</td>\n",
       "      <td>non-stop</td>\n",
       "      <td>No info</td>\n",
       "    </tr>\n",
       "    <tr>\n",
       "      <th>2</th>\n",
       "      <td>Jet Airways</td>\n",
       "      <td>24-06-2019</td>\n",
       "      <td>Delhi</td>\n",
       "      <td>Cochin</td>\n",
       "      <td>11:45</td>\n",
       "      <td>25-06-2021 04:25</td>\n",
       "      <td>16h 40m</td>\n",
       "      <td>2 stops</td>\n",
       "      <td>No info</td>\n",
       "    </tr>\n",
       "    <tr>\n",
       "      <th>3</th>\n",
       "      <td>SpiceJet</td>\n",
       "      <td>21-06-2019</td>\n",
       "      <td>Kolkata</td>\n",
       "      <td>Banglore</td>\n",
       "      <td>09:00</td>\n",
       "      <td>11:25</td>\n",
       "      <td>2h 25m</td>\n",
       "      <td>non-stop</td>\n",
       "      <td>No info</td>\n",
       "    </tr>\n",
       "    <tr>\n",
       "      <th>4</th>\n",
       "      <td>IndiGo</td>\n",
       "      <td>27-04-2019</td>\n",
       "      <td>Kolkata</td>\n",
       "      <td>Banglore</td>\n",
       "      <td>14:25</td>\n",
       "      <td>16:55</td>\n",
       "      <td>2h 30m</td>\n",
       "      <td>non-stop</td>\n",
       "      <td>No info</td>\n",
       "    </tr>\n",
       "    <tr>\n",
       "      <th>...</th>\n",
       "      <td>...</td>\n",
       "      <td>...</td>\n",
       "      <td>...</td>\n",
       "      <td>...</td>\n",
       "      <td>...</td>\n",
       "      <td>...</td>\n",
       "      <td>...</td>\n",
       "      <td>...</td>\n",
       "      <td>...</td>\n",
       "    </tr>\n",
       "    <tr>\n",
       "      <th>2129</th>\n",
       "      <td>Air India</td>\n",
       "      <td>06-04-2019</td>\n",
       "      <td>Banglore</td>\n",
       "      <td>Delhi</td>\n",
       "      <td>17:00</td>\n",
       "      <td>19:45</td>\n",
       "      <td>2h 45m</td>\n",
       "      <td>non-stop</td>\n",
       "      <td>No info</td>\n",
       "    </tr>\n",
       "    <tr>\n",
       "      <th>2130</th>\n",
       "      <td>Jet Airways</td>\n",
       "      <td>01-04-2019</td>\n",
       "      <td>Kolkata</td>\n",
       "      <td>Banglore</td>\n",
       "      <td>06:30</td>\n",
       "      <td>20:45</td>\n",
       "      <td>14h 15m</td>\n",
       "      <td>1 stop</td>\n",
       "      <td>No info</td>\n",
       "    </tr>\n",
       "    <tr>\n",
       "      <th>2131</th>\n",
       "      <td>Multiple carriers</td>\n",
       "      <td>15-05-2019</td>\n",
       "      <td>Delhi</td>\n",
       "      <td>Cochin</td>\n",
       "      <td>08:45</td>\n",
       "      <td>19:00</td>\n",
       "      <td>10h 15m</td>\n",
       "      <td>1 stop</td>\n",
       "      <td>No info</td>\n",
       "    </tr>\n",
       "    <tr>\n",
       "      <th>2132</th>\n",
       "      <td>Air India</td>\n",
       "      <td>03-03-2019</td>\n",
       "      <td>Delhi</td>\n",
       "      <td>Cochin</td>\n",
       "      <td>21:30</td>\n",
       "      <td>04-03-2021 19:15</td>\n",
       "      <td>21h 45m</td>\n",
       "      <td>2 stops</td>\n",
       "      <td>No info</td>\n",
       "    </tr>\n",
       "    <tr>\n",
       "      <th>2133</th>\n",
       "      <td>Jet Airways</td>\n",
       "      <td>15-05-2019</td>\n",
       "      <td>Banglore</td>\n",
       "      <td>Delhi</td>\n",
       "      <td>15:15</td>\n",
       "      <td>18:10</td>\n",
       "      <td>2h 55m</td>\n",
       "      <td>non-stop</td>\n",
       "      <td>No info</td>\n",
       "    </tr>\n",
       "  </tbody>\n",
       "</table>\n",
       "<p>2134 rows × 9 columns</p>\n",
       "</div>"
      ],
      "text/plain": [
       "                Airline Date_of_Journey    Source Destination Dep_Time  \\\n",
       "0              SpiceJet      12-05-2019   Kolkata    Banglore    15:05   \n",
       "1             Air India      15-03-2019     Delhi      Cochin    18:05   \n",
       "2           Jet Airways      24-06-2019     Delhi      Cochin    11:45   \n",
       "3              SpiceJet      21-06-2019   Kolkata    Banglore    09:00   \n",
       "4                IndiGo      27-04-2019   Kolkata    Banglore    14:25   \n",
       "...                 ...             ...       ...         ...      ...   \n",
       "2129          Air India      06-04-2019  Banglore       Delhi    17:00   \n",
       "2130        Jet Airways      01-04-2019   Kolkata    Banglore    06:30   \n",
       "2131  Multiple carriers      15-05-2019     Delhi      Cochin    08:45   \n",
       "2132          Air India      03-03-2019     Delhi      Cochin    21:30   \n",
       "2133        Jet Airways      15-05-2019  Banglore       Delhi    15:15   \n",
       "\n",
       "          Arrival_Time Duration Total_Stops Additional_Info  \n",
       "0                20:20   5h 15m      1 stop         No info  \n",
       "1                21:10    3h 5m    non-stop         No info  \n",
       "2     25-06-2021 04:25  16h 40m     2 stops         No info  \n",
       "3                11:25   2h 25m    non-stop         No info  \n",
       "4                16:55   2h 30m    non-stop         No info  \n",
       "...                ...      ...         ...             ...  \n",
       "2129             19:45   2h 45m    non-stop         No info  \n",
       "2130             20:45  14h 15m      1 stop         No info  \n",
       "2131             19:00  10h 15m      1 stop         No info  \n",
       "2132  04-03-2021 19:15  21h 45m     2 stops         No info  \n",
       "2133             18:10   2h 55m    non-stop         No info  \n",
       "\n",
       "[2134 rows x 9 columns]"
      ]
     },
     "execution_count": 79,
     "metadata": {},
     "output_type": "execute_result"
    }
   ],
   "source": [
    "df_test"
   ]
  },
  {
   "cell_type": "code",
   "execution_count": 80,
   "metadata": {},
   "outputs": [],
   "source": [
    "df_test.loc[:,'Airline'] =  df_test.loc[:,'Airline'].map(mean_airline)"
   ]
  },
  {
   "cell_type": "code",
   "execution_count": 81,
   "metadata": {},
   "outputs": [],
   "source": [
    "df_test['Date_of_Journey']=pd.to_datetime(df_test['Date_of_Journey'])\n",
    "df_test['month'] = df_test['Date_of_Journey'].dt.month\n",
    "df_test['week'] = df_test['Date_of_Journey'].dt.week\n",
    "df_test['quarter'] = df_test['Date_of_Journey'].dt.quarter\n",
    "df_test['date of month'] = df_test['Date_of_Journey'].dt.day\n",
    "df_test['day'] = df_test['Date_of_Journey'].apply(days)\n",
    "df_test.loc[:,'day'] =  df_test.loc[:,'day'].map(day_dict)"
   ]
  },
  {
   "cell_type": "code",
   "execution_count": 82,
   "metadata": {},
   "outputs": [
    {
     "data": {
      "text/plain": [
       "Delhi       912\n",
       "Kolkata     580\n",
       "Banglore    439\n",
       "Mumbai      131\n",
       "Chennai      72\n",
       "Name: Source, dtype: int64"
      ]
     },
     "execution_count": 82,
     "metadata": {},
     "output_type": "execute_result"
    }
   ],
   "source": [
    "df_test.Source.value_counts()"
   ]
  },
  {
   "cell_type": "code",
   "execution_count": 83,
   "metadata": {},
   "outputs": [
    {
     "data": {
      "text/plain": [
       "Cochin       912\n",
       "Banglore     580\n",
       "Delhi        247\n",
       "New Delhi    192\n",
       "Hyderabad    131\n",
       "Kolkata       72\n",
       "Name: Destination, dtype: int64"
      ]
     },
     "execution_count": 83,
     "metadata": {},
     "output_type": "execute_result"
    }
   ],
   "source": [
    "df_test.Destination.value_counts()"
   ]
  },
  {
   "cell_type": "code",
   "execution_count": 84,
   "metadata": {},
   "outputs": [],
   "source": [
    "df_test.loc[:,'Source'] =  df_test.loc[:,'Source'].map(mean_source)\n",
    "df_test.loc[:,'Destination'] =  df_test.loc[:,'Destination'].map(mean_destination)"
   ]
  },
  {
   "cell_type": "code",
   "execution_count": 85,
   "metadata": {},
   "outputs": [],
   "source": [
    "df_test['Dep_Time']=pd.to_datetime(df_test['Dep_Time'],format='%H:%M').dt.time\n",
    "df_test['Dep_Time']=df_test['Dep_Time'].apply(check)"
   ]
  },
  {
   "cell_type": "code",
   "execution_count": 86,
   "metadata": {},
   "outputs": [],
   "source": [
    "df_test['Arrival_Time']=pd.to_datetime(df_test['Arrival_Time']).dt.time\n",
    "df_test['Arrival_Time']=df_test['Arrival_Time'].apply(check)"
   ]
  },
  {
   "cell_type": "code",
   "execution_count": 87,
   "metadata": {},
   "outputs": [],
   "source": [
    "df_test['Duration']=  df_test['Duration'].str.replace(\"h\", '*1').str.replace(' ','+').str.replace('m','/60').apply(eval)"
   ]
  },
  {
   "cell_type": "code",
   "execution_count": 88,
   "metadata": {},
   "outputs": [],
   "source": [
    "df_test.loc[:,'Total_Stops'] =  df_test.loc[:,'Total_Stops'].map(ts_dict)"
   ]
  },
  {
   "cell_type": "code",
   "execution_count": 89,
   "metadata": {},
   "outputs": [
    {
     "data": {
      "text/plain": [
       "No info                         1648\n",
       "In-flight meal not included      407\n",
       "No check-in baggage included      71\n",
       "1 Long layover                     4\n",
       "Change airports                    2\n",
       "No Info                            1\n",
       "Business class                     1\n",
       "Name: Additional_Info, dtype: int64"
      ]
     },
     "execution_count": 89,
     "metadata": {},
     "output_type": "execute_result"
    }
   ],
   "source": [
    "df_test['Additional_Info'].value_counts()"
   ]
  },
  {
   "cell_type": "code",
   "execution_count": 90,
   "metadata": {},
   "outputs": [],
   "source": [
    "df_test['Additional_Info'] = np.where(df_test['Additional_Info']=='No Info','No info',df_test['Additional_Info'])\n",
    "df_test[\"Additional_Info\"].replace({'Change airports':'Other', \n",
    "                               'Business class':'Other',                         \n",
    "                               '1 Long layover':'Other', \n",
    "                              },inplace=True)"
   ]
  },
  {
   "cell_type": "code",
   "execution_count": 91,
   "metadata": {},
   "outputs": [],
   "source": [
    "df_test.loc[:,'Additional_Info'] =  df_test.loc[:,'Additional_Info'].map(ai_dict)"
   ]
  },
  {
   "cell_type": "code",
   "execution_count": 92,
   "metadata": {},
   "outputs": [
    {
     "data": {
      "text/html": [
       "<div>\n",
       "<style scoped>\n",
       "    .dataframe tbody tr th:only-of-type {\n",
       "        vertical-align: middle;\n",
       "    }\n",
       "\n",
       "    .dataframe tbody tr th {\n",
       "        vertical-align: top;\n",
       "    }\n",
       "\n",
       "    .dataframe thead th {\n",
       "        text-align: right;\n",
       "    }\n",
       "</style>\n",
       "<table border=\"1\" class=\"dataframe\">\n",
       "  <thead>\n",
       "    <tr style=\"text-align: right;\">\n",
       "      <th></th>\n",
       "      <th>Airline</th>\n",
       "      <th>Date_of_Journey</th>\n",
       "      <th>Source</th>\n",
       "      <th>Destination</th>\n",
       "      <th>Dep_Time</th>\n",
       "      <th>Arrival_Time</th>\n",
       "      <th>Duration</th>\n",
       "      <th>Total_Stops</th>\n",
       "      <th>Additional_Info</th>\n",
       "      <th>month</th>\n",
       "      <th>week</th>\n",
       "      <th>quarter</th>\n",
       "      <th>date of month</th>\n",
       "      <th>day</th>\n",
       "    </tr>\n",
       "  </thead>\n",
       "  <tbody>\n",
       "    <tr>\n",
       "      <th>0</th>\n",
       "      <td>4239.811659</td>\n",
       "      <td>2019-12-05</td>\n",
       "      <td>9122.237224</td>\n",
       "      <td>9122.237224</td>\n",
       "      <td>15.083333</td>\n",
       "      <td>20.333333</td>\n",
       "      <td>5.250000</td>\n",
       "      <td>0</td>\n",
       "      <td>0</td>\n",
       "      <td>12</td>\n",
       "      <td>49</td>\n",
       "      <td>4</td>\n",
       "      <td>5</td>\n",
       "      <td>4</td>\n",
       "    </tr>\n",
       "    <tr>\n",
       "      <th>1</th>\n",
       "      <td>9580.873469</td>\n",
       "      <td>2019-03-15</td>\n",
       "      <td>10499.676161</td>\n",
       "      <td>10499.676161</td>\n",
       "      <td>18.083333</td>\n",
       "      <td>21.166667</td>\n",
       "      <td>3.083333</td>\n",
       "      <td>1</td>\n",
       "      <td>0</td>\n",
       "      <td>3</td>\n",
       "      <td>11</td>\n",
       "      <td>1</td>\n",
       "      <td>15</td>\n",
       "      <td>5</td>\n",
       "    </tr>\n",
       "    <tr>\n",
       "      <th>2</th>\n",
       "      <td>11679.084738</td>\n",
       "      <td>2019-06-24</td>\n",
       "      <td>10499.676161</td>\n",
       "      <td>10499.676161</td>\n",
       "      <td>11.750000</td>\n",
       "      <td>4.416667</td>\n",
       "      <td>16.666667</td>\n",
       "      <td>2</td>\n",
       "      <td>0</td>\n",
       "      <td>6</td>\n",
       "      <td>26</td>\n",
       "      <td>2</td>\n",
       "      <td>24</td>\n",
       "      <td>1</td>\n",
       "    </tr>\n",
       "    <tr>\n",
       "      <th>3</th>\n",
       "      <td>4239.811659</td>\n",
       "      <td>2019-06-21</td>\n",
       "      <td>9122.237224</td>\n",
       "      <td>9122.237224</td>\n",
       "      <td>9.000000</td>\n",
       "      <td>11.416667</td>\n",
       "      <td>2.416667</td>\n",
       "      <td>1</td>\n",
       "      <td>0</td>\n",
       "      <td>6</td>\n",
       "      <td>25</td>\n",
       "      <td>2</td>\n",
       "      <td>21</td>\n",
       "      <td>5</td>\n",
       "    </tr>\n",
       "    <tr>\n",
       "      <th>4</th>\n",
       "      <td>5691.869304</td>\n",
       "      <td>2019-04-27</td>\n",
       "      <td>9122.237224</td>\n",
       "      <td>9122.237224</td>\n",
       "      <td>14.416667</td>\n",
       "      <td>16.916667</td>\n",
       "      <td>2.500000</td>\n",
       "      <td>1</td>\n",
       "      <td>0</td>\n",
       "      <td>4</td>\n",
       "      <td>17</td>\n",
       "      <td>2</td>\n",
       "      <td>27</td>\n",
       "      <td>6</td>\n",
       "    </tr>\n",
       "  </tbody>\n",
       "</table>\n",
       "</div>"
      ],
      "text/plain": [
       "        Airline Date_of_Journey        Source   Destination   Dep_Time  \\\n",
       "0   4239.811659      2019-12-05   9122.237224   9122.237224  15.083333   \n",
       "1   9580.873469      2019-03-15  10499.676161  10499.676161  18.083333   \n",
       "2  11679.084738      2019-06-24  10499.676161  10499.676161  11.750000   \n",
       "3   4239.811659      2019-06-21   9122.237224   9122.237224   9.000000   \n",
       "4   5691.869304      2019-04-27   9122.237224   9122.237224  14.416667   \n",
       "\n",
       "   Arrival_Time   Duration  Total_Stops  Additional_Info  month  week  \\\n",
       "0     20.333333   5.250000            0                0     12    49   \n",
       "1     21.166667   3.083333            1                0      3    11   \n",
       "2      4.416667  16.666667            2                0      6    26   \n",
       "3     11.416667   2.416667            1                0      6    25   \n",
       "4     16.916667   2.500000            1                0      4    17   \n",
       "\n",
       "   quarter  date of month  day  \n",
       "0        4              5    4  \n",
       "1        1             15    5  \n",
       "2        2             24    1  \n",
       "3        2             21    5  \n",
       "4        2             27    6  "
      ]
     },
     "execution_count": 92,
     "metadata": {},
     "output_type": "execute_result"
    }
   ],
   "source": [
    "df_test.head()"
   ]
  },
  {
   "cell_type": "code",
   "execution_count": 93,
   "metadata": {},
   "outputs": [
    {
     "data": {
      "text/plain": [
       "Airline            0\n",
       "Date_of_Journey    0\n",
       "Source             0\n",
       "Destination        0\n",
       "Dep_Time           0\n",
       "Arrival_Time       0\n",
       "Duration           0\n",
       "Total_Stops        0\n",
       "Additional_Info    0\n",
       "month              0\n",
       "week               0\n",
       "quarter            0\n",
       "date of month      0\n",
       "day                0\n",
       "dtype: int64"
      ]
     },
     "execution_count": 93,
     "metadata": {},
     "output_type": "execute_result"
    }
   ],
   "source": [
    "df_test.isnull().sum()"
   ]
  },
  {
   "cell_type": "code",
   "execution_count": 94,
   "metadata": {},
   "outputs": [],
   "source": [
    "rfr = RandomForestRegressor(min_samples_split=8,min_samples_leaf=1)\n",
    "rfr.fit(train.append(val.append(test))[Features],train.append(val.append(test))['Price'])\n",
    "predicted = rfr.predict(df_test[Features])"
   ]
  },
  {
   "cell_type": "code",
   "execution_count": 96,
   "metadata": {},
   "outputs": [],
   "source": [
    "df_test['Price'] = predicted "
   ]
  },
  {
   "cell_type": "code",
   "execution_count": 97,
   "metadata": {},
   "outputs": [
    {
     "data": {
      "text/plain": [
       "2134"
      ]
     },
     "execution_count": 97,
     "metadata": {},
     "output_type": "execute_result"
    }
   ],
   "source": [
    "len(df_test['Price'])"
   ]
  },
  {
   "cell_type": "code",
   "execution_count": 103,
   "metadata": {},
   "outputs": [],
   "source": [
    "df_test['Price'].to_csv('Final_prediction.csv' ,index=True) "
   ]
  },
  {
   "cell_type": "markdown",
   "metadata": {},
   "source": [
    ""
   ]
  },
  {
   "cell_type": "code",
   "execution_count": null,
   "metadata": {},
   "outputs": [],
   "source": []
  }
 ],
 "metadata": {
  "kernelspec": {
   "display_name": "Python 3",
   "language": "python",
   "name": "python3"
  },
  "language_info": {
   "codemirror_mode": {
    "name": "ipython",
    "version": 3
   },
   "file_extension": ".py",
   "mimetype": "text/x-python",
   "name": "python",
   "nbconvert_exporter": "python",
   "pygments_lexer": "ipython3",
   "version": "3.8.8"
  }
 },
 "nbformat": 4,
 "nbformat_minor": 4
}
